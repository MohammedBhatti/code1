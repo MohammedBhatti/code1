{
 "cells": [
  {
   "cell_type": "markdown",
   "metadata": {},
   "source": [
    "<img src=\"http://imgur.com/1ZcRyrc.png\" style=\"float: left; margin: 20px; height: 55px\">\n",
    "\n",
    "# Project 1: Python Coding Exercises\n",
    "\n",
    "_Authors: Joseph Nelson (DC) _\n",
    "\n",
    "---"
   ]
  },
  {
   "cell_type": "markdown",
   "metadata": {},
   "source": [
    "The following code challenges are drawn from common exercises used in technical interviews.\n",
    "\n",
    "Please note that there may be several ways to approach each challenge. If you get stuck, try mapping out your approach in pseudocode first. Finally, while solutions to problems like these may be found online, remember that if you copy/paste code that you can't explain, you'll be missing out on the point of the project. The only way to truly learn a new skill is through practice, trial, and error - we can only help you improve by understanding where you are having trouble."
   ]
  },
  {
   "cell_type": "markdown",
   "metadata": {},
   "source": [
    "### Challenge 1: Largest Palindrome\n",
    "A palindromic number reads the same both ways. For example, 1234321 is a palindrome. The largest palindrome made from the product of two two-digit numbers is 9009 = 91 × 99. Find the largest palindrome made from the product of two three-digit numbers. Afterward, write a brief explanation walking through your code's logic in markdown."
   ]
  },
  {
   "cell_type": "code",
   "execution_count": null,
   "metadata": {},
   "outputs": [],
   "source": [
    "def check_palindrome(product):\n",
    "\n",
    "  # Convert our int into str\n",
    "  prod_2_str = str(product)\n",
    "  # Get it's length\n",
    "  len_of_prod = len(prod_2_str)\n",
    "  # Get the integer part of the division\n",
    "  int_div = len(prod_2_str)//2\n",
    "\n",
    "  # Slice the front from 0 to the middle\n",
    "  front = prod_2_str[0:int_div]\n",
    "  # Slice the back\n",
    "  back = prod_2_str[-int_div:]\n",
    "  # Reverse the back so that we can compare front and back\n",
    "  reverse = back[::-1]\n",
    "\n",
    "  # If front and back are the same, then we have a palindrome\n",
    "  if (front == reverse):\n",
    "    #print(product, front, back, reverse)\n",
    "    # Retrurn the palindrome number\n",
    "    return product\n",
    "  else:\n",
    "    return 0\n",
    "\n",
    "## MAIN\n",
    "# Define a list to hold number between 100 and 1000\n",
    "nums = []\n",
    "\n",
    "# This var holds the product of the largest palindrome number\n",
    "largest = 0\n",
    "\n",
    "# Populate our list\n",
    "for i in range(100,1000):\n",
    "  nums.append(i)\n",
    "\n",
    "# For each value in the outer loop, multiply each value in the inner loop\n",
    "# Outer loop\n",
    "for outer in nums[:]:\n",
    "  # Inner loop\n",
    "  for inner in nums[:]:\n",
    "    product = outer * inner\n",
    "    largest_ret = check_palindrome(product)\n",
    "\n",
    "    # Check which is the largest product that is a palindrome\n",
    "    if(largest_ret > largest):\n",
    "      largest = largest_ret\n",
    "      largest_inner = inner\n",
    "      largest_outer = outer\n",
    "\n",
    "print(largest_outer, largest_inner, largest)"
   ]
  },
  {
   "cell_type": "raw",
   "metadata": {},
   "source": [
    "First, we need to create a list of 3-digit numbers.\n",
    "Then, we use an outer and inner loop and multiply each number.\n",
    "We pass the resulting number to our function.\n",
    "The function converts the number to a string.\n",
    "It then calculates the lenght of the string and splits in half.\n",
    "We reverse the second half of the string.\n",
    "We then compare both string and if they are equal, we have a palindrome.\n",
    "This is returned back to the caller.\n",
    "We create a temp var to hold the previous value so that we can compare with the returned value.\n",
    "If returned is greater, overwrite previous.\n",
    "Continue the loop."
   ]
  },
  {
   "cell_type": "markdown",
   "metadata": {},
   "source": [
    "\n",
    "### Challenge 2: Summation of Primes\n",
    "The sum of the primes below 10 is 2 + 3 + 5 + 7 = 17. Find the sum of all the primes below 2,000. Afterward, write a brief explanation walking through your code's logic in markdown."
   ]
  },
  {
   "cell_type": "code",
   "execution_count": null,
   "metadata": {},
   "outputs": [],
   "source": [
    "list_of_primes = []\n",
    "sum_of_primes = 0\n",
    "\n",
    "for outer in range(2, 2000):\n",
    "\n",
    "  # Assume outer number is prime\n",
    "  prime = True\n",
    "  for inner in range(2, outer):\n",
    "    # Not a prime\n",
    "    if outer % inner == 0:\n",
    "      prime = False\n",
    "      # Don't test anymore, just break\n",
    "      break\n",
    "    # Break when inner is greater than 1/2 outer\n",
    "    if inner >= outer//2:\n",
    "      break\n",
    "\n",
    "  # Sum our primes and add them to our list for checking\n",
    "  if prime:\n",
    "    list_of_primes.append(outer)\n",
    "    sum_of_primes = sum_of_primes + outer\n",
    "\n",
    "for i in list_of_primes:\n",
    "  print(i)\n",
    "\n",
    "# Print our results\n",
    "print(\"sum of primes = \" + str(sum_of_primes))"
   ]
  },
  {
   "cell_type": "raw",
   "metadata": {},
   "source": [
    "Create a range of number from 2 to 2000.\n",
    "Setup an outer and inner loop.\n",
    "For each number in the outer loop, assume it is prime.\n",
    "In the inner loop, divide the outer by inner.\n",
    "If remainder is 0, stop testing because the number is not prime.\n",
    "Also break if inner is greater than 1/2 outer as we only need to divide upto half the outer number\n",
    "If we find a prime, add them up and also add to our list so that we can check.\n",
    "Print the list and sum of primes"
   ]
  },
  {
   "cell_type": "markdown",
   "metadata": {},
   "source": [
    "### Challenge 3: Multiples of 3 and 5\n",
    "If we list all of the natural numbers below 10 that are multiples of 3 or 5, we get 3, 5, 6, and 9. The sum of these multiples is 23. Find the sum of all the multiples of 3 and 5 below 1,000. Afterward, write a brief explanation walking through your code's logic in markdown."
   ]
  },
  {
   "cell_type": "code",
   "execution_count": 4,
   "metadata": {},
   "outputs": [
    {
     "name": "stdout",
     "output_type": "stream",
     "text": [
      "sum of multiples of 3 or 5 below 1000 = 233168\n"
     ]
    }
   ],
   "source": [
    "list_of_multiples = []\n",
    "sum_of_multiples = 0\n",
    "\n",
    "for outer in range(3, 1000):\n",
    "  # Test for a multple of 3 or 5\n",
    "  if outer%3 == 0:\n",
    "    sum_of_multiples = sum_of_multiples + outer\n",
    "  elif outer%5 == 0:\n",
    "    sum_of_multiples = sum_of_multiples + outer\n",
    "\n",
    "# Print our results\n",
    "print(\"sum of multiples of 3 or 5 below 1000 = \" + str(sum_of_multiples))\n"
   ]
  },
  {
   "cell_type": "raw",
   "metadata": {},
   "source": [
    "Create a list of numbers between 3 and 999.\n",
    "Loop over the list and test whether number is a multiple of 3 or 5.\n",
    "Keep a running total whenever we encounter a multiple.\n",
    "Print our result."
   ]
  },
  {
   "cell_type": "markdown",
   "metadata": {},
   "source": [
    "### Challenge 4: String Compressor\n",
    "Implement a method to perform basic string compression using the counts of repeated characters. (This is called run-length encoding.) For example, the string \"aabcccccaaa\" would become a2b1c5a3. If the “compressed” string would not become smaller than the original string, your method should return the original string. You can assume the string has only uppercase and lowercase letters (a–z). Specify whether your solution is case sensitive or case insensitive and what you would need to change to make it the other. Afterward, write a brief explanation walking through your code's logic in markdown."
   ]
  },
  {
   "cell_type": "code",
   "execution_count": 6,
   "metadata": {},
   "outputs": [
    {
     "name": "stdout",
     "output_type": "stream",
     "text": [
      "String we have is: aabcccccaaa\n",
      "1. here... a 2\n",
      "2. now here... a2\n",
      "b 1\n",
      "2. now here... a2b1\n",
      "c 1\n",
      "1. here... c 2\n",
      "1. here... c 3\n",
      "1. here... c 4\n",
      "1. here... c 5\n",
      "2. now here... a2b1c5\n",
      "a 1\n",
      "1. here... a 2\n",
      "1. here... a 3\n",
      "String we got is: a2b1c5a3\n",
      "Result we want is: a2b1c5a3\n"
     ]
    }
   ],
   "source": [
    "string = \"aabcccccaaa\"\n",
    "init = 0\n",
    "match = 0\n",
    "temp_char = ''\n",
    "new_string = ''\n",
    "\n",
    "print('String we have is: aabcccccaaa')\n",
    "for char in string:\n",
    "  # This is the initial run, so init is set to zero and we copy our first chat to a temp location\n",
    "  if init == 0:\n",
    "    temp_char = char\n",
    "    match += 1\n",
    "\n",
    "  # When init is 1, we need to compare out temp value to our next value in the list\n",
    "  if char == temp_char and init != 0:\n",
    "    # When we have a match, we need to increment our matching counter\n",
    "    match += 1\n",
    "    print('1. here...', char, match)\n",
    "  elif init != 0:\n",
    "    # Whenever we have a change in char, we need to copy the temp char into new_string\n",
    "    new_string = new_string + temp_char + str(match)\n",
    "    print('2. now here...', new_string)\n",
    "    # We reset the temp_char to hold our new char\n",
    "    temp_char = char\n",
    "    # Reset counter becasue we have a change\n",
    "    match = 1\n",
    "    print(char, match)\n",
    "\n",
    "  # At the bottom of the loop, we now want to set init to 1\n",
    "  init = 1\n",
    "\n",
    "print\n",
    "print(\"String we got is: \" + new_string + temp_char + str(match))\n",
    "print\n",
    "print('Result we want is: a2b1c5a3')"
   ]
  },
  {
   "cell_type": "markdown",
   "metadata": {},
   "source": [
    "### *BONUS* Challenge: FizzBuzz\n",
    "Write a program that prints all of the numbers from 1 to 100. For multiples of 3, instead of the number, print \"Fizz;\" for multiples of 5, print \"Buzz.\" For numbers that are multiples of both 3 and 5, print \"FizzBuzz.\" Afterward, write a brief explanation walking through your code's logic in markdown."
   ]
  },
  {
   "cell_type": "code",
   "execution_count": 25,
   "metadata": {},
   "outputs": [
    {
     "name": "stdout",
     "output_type": "stream",
     "text": [
      "Fizz  3\n",
      "Buzz  5\n",
      "Fizz  6\n",
      "Fizz  9\n",
      "Buzz  10\n",
      "Fizz  12\n",
      "FizzBuzz  15\n",
      "Fizz  18\n",
      "Buzz  20\n",
      "Fizz  21\n",
      "Fizz  24\n",
      "Buzz  25\n",
      "Fizz  27\n",
      "FizzBuzz  30\n",
      "Fizz  33\n",
      "Buzz  35\n",
      "Fizz  36\n",
      "Fizz  39\n",
      "Buzz  40\n",
      "Fizz  42\n",
      "FizzBuzz  45\n",
      "Fizz  48\n",
      "Buzz  50\n",
      "Fizz  51\n",
      "Fizz  54\n",
      "Buzz  55\n",
      "Fizz  57\n",
      "FizzBuzz  60\n",
      "Fizz  63\n",
      "Buzz  65\n",
      "Fizz  66\n",
      "Fizz  69\n",
      "Buzz  70\n",
      "Fizz  72\n",
      "FizzBuzz  75\n",
      "Fizz  78\n",
      "Buzz  80\n",
      "Fizz  81\n",
      "Fizz  84\n",
      "Buzz  85\n",
      "Fizz  87\n",
      "FizzBuzz  90\n",
      "Fizz  93\n",
      "Buzz  95\n",
      "Fizz  96\n",
      "Fizz  99\n",
      "Buzz  100\n"
     ]
    }
   ],
   "source": [
    "for number in range(3,101):\n",
    "    if (number%3 == 0 and number%5 == 0):\n",
    "        print(\"FizzBuzz \", number)\n",
    "    elif number%3 == 0:\n",
    "        print(\"Fizz \", number)\n",
    "    elif number%5 == 0:\n",
    "        print(\"Buzz \", number)"
   ]
  },
  {
   "cell_type": "raw",
   "metadata": {},
   "source": [
    "Loop through our list starting from 3 upto 100.\n",
    "Check if the number is divisable 3 and 5.\n",
    "If true, print fizzbuzz\n",
    "else divide by 3 and if true print fizz\n",
    "else divide by 5 and if true print buzz"
   ]
  },
  {
   "cell_type": "code",
   "execution_count": null,
   "metadata": {},
   "outputs": [],
   "source": []
  }
 ],
 "metadata": {
  "anaconda-cloud": {},
  "kernelspec": {
   "display_name": "Python 3",
   "language": "python",
   "name": "python3"
  },
  "language_info": {
   "codemirror_mode": {
    "name": "ipython",
    "version": 3
   },
   "file_extension": ".py",
   "mimetype": "text/x-python",
   "name": "python",
   "nbconvert_exporter": "python",
   "pygments_lexer": "ipython3",
   "version": "3.6.4"
  }
 },
 "nbformat": 4,
 "nbformat_minor": 2
}
